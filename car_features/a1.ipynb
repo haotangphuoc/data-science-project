{
 "cells": [
  {
   "cell_type": "markdown",
   "id": "68d3ffc0",
   "metadata": {},
   "source": [
    "#Questions: do we have to identiy misformat in dataset that does not relato to our solution\n",
    "\n",
    "# 1. Business Understanding"
   ]
  },
  {
   "cell_type": "markdown",
   "id": "72216571",
   "metadata": {},
   "source": [
    "a)\n",
    "\n",
    "- Business Problem: Optimize vehicle design to help defining sales and marketing strategies by identifying which features most influence consumer demand.\n",
    "- Consider insights: The dataset including different car model and its components, which can be analyzed to predict trend, optimize price and identify which component of an automobile shoud be prioritized."
   ]
  },
  {
   "cell_type": "markdown",
   "id": "95f5af4d",
   "metadata": {},
   "source": [
    "b)\n",
    "\n",
    "Three potential data solutions:\n",
    "- Train a regression to predict Popularity, then extract feature importance\n",
    "  - Feasibility: high, we already have data with clear feature and target variable (Popularity)\n",
    "- Train a regression mix of engine fuel type, engine HP, engine cylinders, and driven-wheels gives the best overall fuel economy (city and highway MPG)\n",
    "  - Feasibility: high, already have data with clear feature and target variable (city and highway MPG)\n",
    "- Using EDA and correlation analysis to identiy trend between market price and automobile\n",
    "  - Feasibility: high, the dataset already includes MSRP (target) and relevant features (Engine HP, Market Category, Vehicle Size, etc.).\n",
    "\n",
    "After careful consideration, I decided to go with second option because regression in second solution has fewer key variables, which lead to more stable prediction. The second option also tackle a specific business selling point, which for those automobile brands who want to prioritize MPG."
   ]
  },
  {
   "cell_type": "markdown",
   "id": "03466f71",
   "metadata": {},
   "source": [
    "c) \n",
    "Hierachal domain graph\n"
   ]
  },
  {
   "cell_type": "markdown",
   "id": "80b1a77f",
   "metadata": {},
   "source": [
    "d)\n",
    "\n",
    "| Feature Name      | Domain Concept     | Feature Description                                                                 | Feature Type | Data Type     |\n",
    "|-------------------|--------------------|-------------------------------------------------------------------------------------|--------------|---------------|\n",
    "| city mpg          | Fuel Economy       | Fuel efficiency in city driving conditions                                         | Target       | Numeric (int) |\n",
    "| highway MPG       | Fuel Economy       | Fuel efficiency in highway driving conditions                                      | Target       | Numeric (int) |\n",
    "| city highway MPG  | Fuel Economy       | Ratio of fuel efficiency while driving in city and highway, with ratio 55% city and 45% highway | Derived      | Numeric (float) |\n",
    "| Engine HP         | Engine             | Engine horsepower                                                                  | Predictor    | Numeric (int) |\n",
    "| Engine Cylinders  | Engine             | Number of cylinders                                                                | Predictor    | Numeric (int) |\n",
    "| Engine Fuel Type  | Engine             | Type of fuel engine uses                                                           | Predictor    | Categorical   |\n",
    "| Driven_Wheels     | Drivetrain Layout  | Wheels of the vehicle receiving power from the engine to propel the vehicle        | Predictor    | Categorical   |\n"
   ]
  },
  {
   "cell_type": "markdown",
   "id": "8db2fe0a",
   "metadata": {},
   "source": [
    "# 2. Data Exploration"
   ]
  },
  {
   "cell_type": "code",
   "execution_count": null,
   "id": "807d18b9",
   "metadata": {},
   "outputs": [
    {
     "name": "stdout",
     "output_type": "stream",
     "text": [
      "Missing City MPG: 0.0%\n",
      "Missing Highway MPG: 0.0%\n",
      "Missing Engine Fuel Type: 0.03%\n",
      "Missing Engine HP: 0.58%\n",
      "Missing Engine Cylinders: 0.25%\n",
      "\n",
      "Duplicate rows: 715\n",
      "\n",
      "Make                  object\n",
      "Model                 object\n",
      "Year                   int64\n",
      "Engine Fuel Type      object\n",
      "Engine HP            float64\n",
      "Engine Cylinders     float64\n",
      "Transmission Type     object\n",
      "Driven_Wheels         object\n",
      "Number of Doors      float64\n",
      "Market Category       object\n",
      "Vehicle Size          object\n",
      "Vehicle Style         object\n",
      "highway MPG            int64\n",
      "city mpg               int64\n",
      "Popularity             int64\n",
      "MSRP                   int64\n",
      "dtype: object\n"
     ]
    }
   ],
   "source": [
    "import pandas as pd\n",
    "\n",
    "df = pd.read_csv('data.csv')"
   ]
  },
  {
   "cell_type": "code",
   "execution_count": 54,
   "id": "31db7df0",
   "metadata": {},
   "outputs": [
    {
     "name": "stdout",
     "output_type": "stream",
     "text": [
      "Number of rows with missing values: 3830 (32.15%)\n",
      "Number of missing city mpg values: 0 (0.00%)\n",
      "Number of missing highway mpg values: 0 (0.00%)\n",
      "Number of missing fuel type values: 3 (0.03%)\n",
      "Number of missing engine hp values: 69 (0.58%)\n",
      "Number of missing engine cylinders values: 30 (0.25%)\n",
      "Number of missing drive type values: 0 (0.00%)\n"
     ]
    }
   ],
   "source": [
    "# Completeness\n",
    "num_rows = len(df)\n",
    "\n",
    "num_rows_with_missing_values = df.isnull().any(axis=1).sum()\n",
    "\n",
    "num_missing_city_mpg = df['city mpg'].isnull().sum()\n",
    "num_missing_highway_mpg = df['highway MPG'].isnull().sum()\n",
    "num_missing_fuel_type = df['Engine Fuel Type'].isnull().sum()\n",
    "num_missing_engine_hp = df['Engine HP'].isnull().sum()\n",
    "num_missing_engine_cylinders = df['Engine Cylinders'].isnull().sum()\n",
    "num_missing_drive_type = df['Driven_Wheels'].isnull().sum()\n",
    "\n",
    "print(f\"Number of rows with missing values: {num_rows_with_missing_values} ({num_rows_with_missing_values / num_rows * 100:.2f}%)\")\n",
    "\n",
    "print(f\"Number of missing city mpg values: {num_missing_city_mpg} ({num_missing_city_mpg / num_rows * 100:.2f}%)\")\n",
    "print(f\"Number of missing highway mpg values: {num_missing_highway_mpg} ({num_missing_highway_mpg / num_rows * 100:.2f}%)\")\n",
    "print(f\"Number of missing fuel type values: {num_missing_fuel_type} ({num_missing_fuel_type / num_rows * 100:.2f}%)\")\n",
    "print(f\"Number of missing engine hp values: {num_missing_engine_hp} ({num_missing_engine_hp / num_rows * 100:.2f}%)\")\n",
    "print(f\"Number of missing engine cylinders values: {num_missing_engine_cylinders} ({num_missing_engine_cylinders / num_rows * 100:.2f}%)\")\n",
    "print(f\"Number of missing drive type values: {num_missing_drive_type} ({num_missing_drive_type / num_rows * 100:.2f}%)\")\n",
    "\n"
   ]
  },
  {
   "cell_type": "code",
   "execution_count": 53,
   "id": "9611bc07",
   "metadata": {},
   "outputs": [
    {
     "name": "stdout",
     "output_type": "stream",
     "text": [
      "Duplicate rows: 715 (6.00%)\n"
     ]
    }
   ],
   "source": [
    "# Uniqueness\n",
    "print(f\"Duplicate rows: {df.duplicated().sum()} ({df.duplicated().sum() / num_rows * 100:.2f}%)\")"
   ]
  },
  {
   "cell_type": "code",
   "execution_count": 16,
   "id": "0928429b",
   "metadata": {},
   "outputs": [
    {
     "name": "stdout",
     "output_type": "stream",
     "text": [
      "Make                  object\n",
      "Model                 object\n",
      "Year                   int64\n",
      "Engine Fuel Type      object\n",
      "Engine HP            float64\n",
      "Engine Cylinders     float64\n",
      "Transmission Type     object\n",
      "Driven_Wheels         object\n",
      "Number of Doors      float64\n",
      "Market Category       object\n",
      "Vehicle Size          object\n",
      "Vehicle Style         object\n",
      "highway MPG            int64\n",
      "city mpg               int64\n",
      "Popularity             int64\n",
      "MSRP                   int64\n",
      "dtype: object\n"
     ]
    }
   ],
   "source": [
    "# Consistency\n",
    "print(df.dtypes)"
   ]
  },
  {
   "cell_type": "code",
   "execution_count": null,
   "id": "f9542de8",
   "metadata": {},
   "outputs": [
    {
     "name": "stdout",
     "output_type": "stream",
     "text": [
      "Negative Engine Cylinders: 0 rows\n",
      "Non-integer Engine Cylinders: 30 rows\n",
      "Negative Engine HP: 0 rows\n",
      "Negative City MPG: 0 rows\n",
      "Negative Highway MPG: 0 rows\n",
      "Unique Engine Fuel values: ['premium unleaded (required)' 'regular unleaded'\n",
      " 'premium unleaded (recommended)' 'flex-fuel (unleaded/E85)' 'diesel'\n",
      " 'electric' 'flex-fuel (premium unleaded recommended/E85)' 'natural gas'\n",
      " 'flex-fuel (premium unleaded required/E85)'\n",
      " 'flex-fuel (unleaded/natural gas)' nan]\n",
      "Unique Driven Wheels values: ['rear wheel drive' 'front wheel drive' 'all wheel drive'\n",
      " 'four wheel drive']\n"
     ]
    }
   ],
   "source": [
    "\n",
    "# Engine cylinders needs to be an integer and non-negative\n",
    "negative_cylinders = (df['Engine Cylinders'] < 0).sum()\n",
    "non_integer_cylinders = (df['Engine Cylinders'] % 1 != 0).sum()\n",
    "print(f\"Negative Engine Cylinders: {negative_cylinders} rows\")\n",
    "print(f\"Non-integer Engine Cylinders: {non_integer_cylinders} rows\")\n",
    "\n",
    "# Engine HP, city MPG, and highway MPG should be non-negative\n",
    "misformat_engine_hp = (df['Engine HP'] < 0).sum()\n",
    "misformat_city_mpg = (df['city mpg'] < 0).sum()\n",
    "misformat_highway_mpg = (df['highway MPG'] < 0).sum()\n",
    "print(f\"Negative Engine HP: {misformat_engine_hp} rows\")\n",
    "print(f\"Negative City MPG: {misformat_city_mpg} rows\")\n",
    "print(f\"Negative Highway MPG: {misformat_highway_mpg} rows\")\n",
    "\n",
    "\n",
    "# Validating categorical variables\n",
    "print(f\"Unique Engine Fuel values: {df['Engine Fuel Type'].unique()}\")\n",
    "print(f\"Unique Driven Wheels values: {df['Driven_Wheels'].unique()}\")\n"
   ]
  },
  {
   "cell_type": "markdown",
   "id": "4b48e855",
   "metadata": {},
   "source": [
    "Result findings:\n",
    "- Duplicated rows: 715 (6%)\n",
    "- Rows with at least 1 missing values: "
   ]
  },
  {
   "cell_type": "code",
   "execution_count": null,
   "id": "3cef8d07",
   "metadata": {},
   "outputs": [],
   "source": []
  },
  {
   "cell_type": "code",
   "execution_count": null,
   "id": "5c33088f",
   "metadata": {},
   "outputs": [],
   "source": []
  }
 ],
 "metadata": {
  "kernelspec": {
   "display_name": "base",
   "language": "python",
   "name": "python3"
  },
  "language_info": {
   "codemirror_mode": {
    "name": "ipython",
    "version": 3
   },
   "file_extension": ".py",
   "mimetype": "text/x-python",
   "name": "python",
   "nbconvert_exporter": "python",
   "pygments_lexer": "ipython3",
   "version": "3.11.5"
  }
 },
 "nbformat": 4,
 "nbformat_minor": 5
}
