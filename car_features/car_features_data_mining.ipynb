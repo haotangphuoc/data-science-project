{
 "cells": [
  {
   "cell_type": "markdown",
   "id": "68d3ffc0",
   "metadata": {},
   "source": [
    "#Questions: do we have to identiy misformat in dataset that does not relato to our solution\n",
    "\n",
    "# 1. Business Understanding"
   ]
  },
  {
   "cell_type": "markdown",
   "id": "72216571",
   "metadata": {},
   "source": [
    "a)\n",
    "\n",
    "- Business Problem: Optimize vehicle design to help defining sales and marketing strategies by identifying which features most influence consumer demand.\n",
    "- Consider insights: The dataset including different car model and its components, which can be analyzed to predict trend, optimize price and identify which component of an automobile shoud be prioritized."
   ]
  },
  {
   "cell_type": "markdown",
   "id": "95f5af4d",
   "metadata": {},
   "source": [
    "b)\n",
    "\n",
    "Three potential data solutions:\n",
    "- Train a regression to predict Popularity, then extract feature importance\n",
    "  - Feasibility: high, we already have data with clear feature and target variable (Popularity)\n",
    "- Train a regression mix of engine fuel type, engine HP, engine cylinders, and driven-wheels gives the best overall fuel economy (city and highway MPG)\n",
    "  - Feasibility: high, already have data with clear feature and target variable (city and highway MPG)\n",
    "- Using EDA and correlation analysis to identiy trend between market price and automobile\n",
    "  - Feasibility: high, the dataset already includes MSRP (target) and relevant features (Engine HP, Market Category, Vehicle Size, etc.).\n",
    "\n",
    "After careful consideration, I decided to go with second option because regression in second solution has fewer key variables, which lead to more stable prediction. The second option also tackle a specific business selling point, which for those automobile brands who want to prioritize MPG."
   ]
  },
  {
   "cell_type": "markdown",
   "id": "03466f71",
   "metadata": {},
   "source": [
    "c) \n",
    "Hierachal domain graph\n",
    "\n",
    "![Hierachal domain graph](Screenshot%202025-05-23%20at%203.39.54 AM.png)"
   ]
  },
  {
   "cell_type": "markdown",
   "id": "80b1a77f",
   "metadata": {},
   "source": [
    "d)\n",
    "\n",
    "| **Feature Name**   | **Domain Concept**  | **Feature Description**                                                             | **Feature Type** | **Data Type**     |\n",
    "|--------------------|--------------------|-------------------------------------------------------------------------------------|------------------|-------------------|\n",
    "| `city_mpg`         | Fuel Economy       | Fuel efficiency in city driving conditions                                          | Target           | Numeric      |\n",
    "| `highway_mpg`      | Fuel Economy       | Fuel efficiency in highway driving conditions                                       | Target           | Numeric      |\n",
    "| `combined_mpg` | Fuel Economy       | Ratio of fuel efficiency while driving in city and highway, with ratio 55% city and 45% highway | Derived          | Numeric    |\n",
    "| `engine_hp`        | Engine             | Engine horsepower                                                                   | Predictor        | Numeric      |\n",
    "| `engine_cylinders` | Engine             | Number of cylinders                                                                 | Predictor        | Numeric     |\n",
    "| `engine_fuel_type` | Engine             | Type of fuel engine uses                                                            | Predictor        | Categorical       |\n",
    "| `driven_wheels`    | Drivetrain Layout  | Wheels of the vehicle receiving power from the engine to propel the vehicle         | Predictor        | Categorical       |\n",
    "\n"
   ]
  },
  {
   "cell_type": "markdown",
   "id": "8db2fe0a",
   "metadata": {},
   "source": [
    "# 2. Data Exploration"
   ]
  },
  {
   "cell_type": "code",
   "execution_count": 156,
   "id": "807d18b9",
   "metadata": {},
   "outputs": [
    {
     "name": "stdout",
     "output_type": "stream",
     "text": [
      "Index(['Make', 'Model', 'Year', 'engine_fuel_type', 'engine_hp',\n",
      "       'engine_cylinders', 'Transmission Type', 'driven_wheels',\n",
      "       'Number of Doors', 'Market Category', 'Vehicle Size', 'Vehicle Style',\n",
      "       'highway_mpg', 'city_mpg', 'Popularity', 'MSRP'],\n",
      "      dtype='object')\n"
     ]
    }
   ],
   "source": [
    "import pandas as pd\n",
    "\n",
    "df = pd.read_csv('data.csv')\n",
    "print(df.columns)\n"
   ]
  },
  {
   "cell_type": "code",
   "execution_count": 157,
   "id": "0910ef63",
   "metadata": {},
   "outputs": [
    {
     "name": "stdout",
     "output_type": "stream",
     "text": [
      "Index(['make', 'model', 'year', 'engine_fuel_type', 'engine_hp',\n",
      "       'engine_cylinders', 'transmission_type', 'driven_wheels',\n",
      "       'number_of_doors', 'market_category', 'vehicle_size', 'vehicle_style',\n",
      "       'highway_mpg', 'city_mpg', 'popularity', 'msrp'],\n",
      "      dtype='object')\n"
     ]
    }
   ],
   "source": [
    "# Standardize column names\n",
    "df.columns = (\n",
    "    df.columns\n",
    "    .str.strip()                   \n",
    "    .str.lower()                    \n",
    "    .str.replace(' ', '_')          \n",
    "    .str.replace('[^0-9a-zA-Z_]', '', regex=True) \n",
    ")\n",
    "print(df.columns)"
   ]
  },
  {
   "cell_type": "code",
   "execution_count": 158,
   "id": "31db7df0",
   "metadata": {},
   "outputs": [
    {
     "name": "stdout",
     "output_type": "stream",
     "text": [
      "Number of rows with missing values: 101 (0.85%)\n",
      "Number of missing city_mpg values: 0 (0.00%)\n",
      "Number of missing highway_mpg values: 0 (0.00%)\n",
      "Number of missing engine_fuel_type values: 3 (0.03%)\n",
      "Number of missing engine_hp values: 69 (0.58%)\n",
      "Number of missing engine_cylinders values: 30 (0.25%)\n",
      "Number of missing driven_wheels values: 0 (0.00%)\n"
     ]
    }
   ],
   "source": [
    "# Completeness\n",
    "num_rows = len(df)\n",
    "\n",
    "subset_cols = ['city_mpg', 'highway_mpg', 'engine_fuel_type', \n",
    "               'engine_hp', 'engine_cylinders', 'driven_wheels']\n",
    "num_rows_with_missing_values = df[subset_cols].isnull().any(axis=1).sum()\n",
    "\n",
    "num_missing_city_mpg = df['city_mpg'].isnull().sum()\n",
    "num_missing_highway_mpg = df['highway_mpg'].isnull().sum()\n",
    "num_missing_fuel_type = df['engine_fuel_type'].isnull().sum()\n",
    "num_missing_engine_hp = df['engine_hp'].isnull().sum()\n",
    "num_missing_engine_cylinders = df['engine_cylinders'].isnull().sum()\n",
    "num_missing_drive_type = df['driven_wheels'].isnull().sum()\n",
    "\n",
    "print(f\"Number of rows with missing values: {num_rows_with_missing_values} ({num_rows_with_missing_values / num_rows * 100:.2f}%)\")\n",
    "\n",
    "print(f\"Number of missing city_mpg values: {num_missing_city_mpg} ({num_missing_city_mpg / num_rows * 100:.2f}%)\")\n",
    "print(f\"Number of missing highway_mpg values: {num_missing_highway_mpg} ({num_missing_highway_mpg / num_rows * 100:.2f}%)\")\n",
    "print(f\"Number of missing engine_fuel_type values: {num_missing_fuel_type} ({num_missing_fuel_type / num_rows * 100:.2f}%)\")\n",
    "print(f\"Number of missing engine_hp values: {num_missing_engine_hp} ({num_missing_engine_hp / num_rows * 100:.2f}%)\")\n",
    "print(f\"Number of missing engine_cylinders values: {num_missing_engine_cylinders} ({num_missing_engine_cylinders / num_rows * 100:.2f}%)\")\n",
    "print(f\"Number of missing driven_wheels values: {num_missing_drive_type} ({num_missing_drive_type / num_rows * 100:.2f}%)\")\n",
    "\n"
   ]
  },
  {
   "cell_type": "code",
   "execution_count": 159,
   "id": "9611bc07",
   "metadata": {},
   "outputs": [
    {
     "name": "stdout",
     "output_type": "stream",
     "text": [
      "Duplicate rows: 715 (6.00%)\n"
     ]
    }
   ],
   "source": [
    "# Uniqueness\n",
    "print(f\"Duplicate rows: {df.duplicated().sum()} ({df.duplicated().sum() / num_rows * 100:.2f}%)\")"
   ]
  },
  {
   "cell_type": "code",
   "execution_count": 160,
   "id": "0928429b",
   "metadata": {},
   "outputs": [
    {
     "name": "stdout",
     "output_type": "stream",
     "text": [
      "make                  object\n",
      "model                 object\n",
      "year                   int64\n",
      "engine_fuel_type      object\n",
      "engine_hp            float64\n",
      "engine_cylinders     float64\n",
      "transmission_type     object\n",
      "driven_wheels         object\n",
      "number_of_doors      float64\n",
      "market_category       object\n",
      "vehicle_size          object\n",
      "vehicle_style         object\n",
      "highway_mpg            int64\n",
      "city_mpg               int64\n",
      "popularity             int64\n",
      "msrp                   int64\n",
      "dtype: object\n"
     ]
    }
   ],
   "source": [
    "# Consistency\n",
    "print(df.dtypes)"
   ]
  },
  {
   "cell_type": "code",
   "execution_count": 161,
   "id": "f9542de8",
   "metadata": {},
   "outputs": [
    {
     "name": "stdout",
     "output_type": "stream",
     "text": [
      "Negative engine_cylinders: 0 rows\n",
      "Non-integer engine_cylinders: 0 rows\n"
     ]
    }
   ],
   "source": [
    "# engine_cylinders needs to be an integer and non-negative\n",
    "negative_cylinders = (df['engine_cylinders'] < 0).sum()\n",
    "non_integer_cylinders = ((df['engine_cylinders'] % 1 != 0) & df['engine_cylinders'].notna()).sum()\n",
    "print(f\"Negative engine_cylinders: {negative_cylinders} rows\")\n",
    "print(f\"Non-integer engine_cylinders: {non_integer_cylinders} rows\")\n"
   ]
  },
  {
   "cell_type": "code",
   "execution_count": 162,
   "id": "274d4f1b",
   "metadata": {},
   "outputs": [
    {
     "name": "stdout",
     "output_type": "stream",
     "text": [
      "Negative engine_hp: 0 rows\n",
      "Negative city_mpg: 0 rows\n",
      "Negative highway_mpg: 0 rows\n"
     ]
    }
   ],
   "source": [
    "# engine_hp, city_mpg, and highway_mpg should be non-negative\n",
    "misformat_engine_hp = (df['engine_hp'] < 0).sum()\n",
    "misformat_city_mpg = (df['city_mpg'] < 0).sum()\n",
    "misformat_highway_mpg = (df['highway_mpg'] < 0).sum()\n",
    "print(f\"Negative engine_hp: {misformat_engine_hp} rows\")\n",
    "print(f\"Negative city_mpg: {misformat_city_mpg} rows\")\n",
    "print(f\"Negative highway_mpg: {misformat_highway_mpg} rows\")"
   ]
  },
  {
   "cell_type": "code",
   "execution_count": 163,
   "id": "c173e067",
   "metadata": {},
   "outputs": [
    {
     "name": "stdout",
     "output_type": "stream",
     "text": [
      "Unique Engine Fuel values: ['premium unleaded (required)' 'regular unleaded'\n",
      " 'premium unleaded (recommended)' 'flex-fuel (unleaded/E85)' 'diesel'\n",
      " 'electric' 'flex-fuel (premium unleaded recommended/E85)' 'natural gas'\n",
      " 'flex-fuel (premium unleaded required/E85)'\n",
      " 'flex-fuel (unleaded/natural gas)' nan]\n",
      "Unique Driven Wheels values: ['rear wheel drive' 'front wheel drive' 'all wheel drive'\n",
      " 'four wheel drive']\n"
     ]
    }
   ],
   "source": [
    "# Validating categorical variables\n",
    "print(f\"Unique Engine Fuel values: {df['engine_fuel_type'].unique()}\")\n",
    "print(f\"Unique Driven Wheels values: {df['driven_wheels'].unique()}\")"
   ]
  },
  {
   "cell_type": "code",
   "execution_count": 164,
   "id": "162bde25",
   "metadata": {},
   "outputs": [
    {
     "name": "stdout",
     "output_type": "stream",
     "text": [
      "Electric cars with cylinders: 0 rows\n"
     ]
    }
   ],
   "source": [
    "# check if electric car has cylinders\n",
    "electric_cylinders = ((df['engine_fuel_type'] == 'electric') & (df['engine_cylinders'] > 0)).sum()\n",
    "print(f\"Electric cars with cylinders: {electric_cylinders} rows\")"
   ]
  },
  {
   "cell_type": "markdown",
   "id": "4b48e855",
   "metadata": {},
   "source": [
    "### Result findings:\n",
    "General findings:\n",
    "- Duplicated rows: 715 (6%)\n",
    "- Rows with at least 1 missing values: 101 (0.85%)\n",
    "- Missing data in engine_fuel_type, engine_hp, and engine_cylinders columns\n",
    "- Column names need to be standadized for better manipulation\n",
    "\n",
    "| Feature             | Current Type | Missing Values | Misformatted Values      | Rules Checked                                                                 | Notes                                                                 |\n",
    "|---------------------|--------------|----------------|--------------------------|------------------------------------------------------------------------------|-----------------------------------------------------------------------|\n",
    "| `city_mpg`          | int64        | 0 (0.00%)      | 0                        | No missing values, no negative values                                        | Data looks clean                                                      |\n",
    "| `highway_mpg`       | int64        | 0 (0.00%)      | 0                        | No missing values, no negative values                                        | Data looks clean                                                      |\n",
    "| `engine_fuel_type`  | object       | 3 (0.03%)      | 0                        | Missing values, unique values inspected                                      | Includes flex-fuel and alternative types, plus missing (nan)          |\n",
    "| `engine_hp`         | float64      | 69 (0.58%)     | 0                        | Missing values, checked for negative values                                  | No negative values found                                              |\n",
    "| `engine_cylinders`  | float64      | 30 (0.25%)     | 0          | Missing values, checked for negative values and non-integer formatting       | Non-integer values may need rounding or type conversion               |\n",
    "| `driven_wheels`     | object       | 0 (0.00%)      | 0                        | No missing values, unique values inspected                                   | Contains common types (FWD, RWD, AWD, 4WD)                            |\n"
   ]
  },
  {
   "cell_type": "markdown",
   "id": "76164050",
   "metadata": {},
   "source": [
    "### Data Quality Plan\n",
    "1. Standadize column names: convert all column names to lowercase snake_case for easier manipulation\n",
    "2. Fix data types: \n",
    "- convert `engine_cylinders` to integer type \n",
    "3. Handle dyplicated rows: delete exact duplicated ones\n",
    "4. Hanlde missing values\n",
    "- Fill missing `engine_fuel_type` values with their online specifications (missing values is only 3)\n",
    "- Fill missing `engine_hp`values with median value\n",
    "- Fill missing `engine_cylinders` values with with most common cylinders number\n",
    "5. Derive `combined_mpg` as weigted average: \n",
    "- combined_mpg = 0.55 * city_mpg + 0.45 * highwat MPG\n",
    "- this captures overall fuel efficiency more comprehensively\n",
    "6. For electric car with cylinders > 0, consider 2 cases:\n",
    "- If it is due to human error, set the value to 0\n",
    "- If the car is hybrid, consider changing the fuel type from `electric` to `hybrid`\n",
    "7. Group and rename `engine_fuel_type` to reduce noise and improve interpretability:\n",
    "- group `premium unleaded (required)` and `premium unleaded (recommended)` into `premium`\n",
    "- group `flex-fuel (premium unleaded recommended/E85)` and `flex-fuel (premium unleaded required/E85` to `flex_premium`\n",
    "- rename `flex-fuel (unleaded/natural gas)` to `flex_other`\n",
    "- rename `flex-fuel (unleaded/E85)` to `flex_regular`\n",
    "- rename `regular unleaded` to `regular`\n",
    "8. Encode categorical variables for `engine_cylinders` and `driven_wheels`\n",
    "\n"
   ]
  },
  {
   "cell_type": "markdown",
   "id": "901c9d65",
   "metadata": {},
   "source": [
    "# 3. Data Preparation"
   ]
  },
  {
   "cell_type": "code",
   "execution_count": 165,
   "id": "70534c86",
   "metadata": {},
   "outputs": [],
   "source": [
    "# Standadize column names is implemented above"
   ]
  },
  {
   "cell_type": "code",
   "execution_count": 166,
   "id": "e2ec66bd",
   "metadata": {
    "vscode": {
     "languageId": "markdown"
    }
   },
   "outputs": [],
   "source": [
    "# Convert engine_cylinders to integer\n",
    "df['engine_cylinders'] = df['engine_cylinders'].astype('Int64', errors='ignore')\n"
   ]
  },
  {
   "cell_type": "code",
   "execution_count": 167,
   "id": "a2ffe497",
   "metadata": {},
   "outputs": [
    {
     "name": "stdout",
     "output_type": "stream",
     "text": [
      "         make   model  year\n",
      "11321  Suzuki  Verona  2004\n",
      "11322  Suzuki  Verona  2004\n",
      "11323  Suzuki  Verona  2004\n"
     ]
    }
   ],
   "source": [
    "# Handle missing values for engine_cylinders\n",
    "missing_fuel_type_rows = df.loc[df['engine_fuel_type'].isnull(), ['make', 'model', 'year']]\n",
    "print(missing_fuel_type_rows)\n"
   ]
  },
  {
   "cell_type": "code",
   "execution_count": 168,
   "id": "fe9a2322",
   "metadata": {},
   "outputs": [
    {
     "name": "stdout",
     "output_type": "stream",
     "text": [
      "Missing engine_fuel_type: 0 rows\n"
     ]
    }
   ],
   "source": [
    "# From Suzuki website, the missing value is 'regular unleaded'\n",
    "# Fill the missing value with 'regular unleaded'\n",
    "df.fillna({'engine_fuel_type': 'regular unleaded'}, inplace=True)\n",
    "\n",
    "# Check if the missing value is filled\n",
    "print(f\"Missing engine_fuel_type: {df['engine_fuel_type'].isnull().sum()} rows\")"
   ]
  },
  {
   "cell_type": "code",
   "execution_count": 169,
   "id": "88439078",
   "metadata": {},
   "outputs": [
    {
     "name": "stdout",
     "output_type": "stream",
     "text": [
      "Missing engine_hp: 0 rows\n",
      "Missing engine_cylinders: 0 rows\n"
     ]
    }
   ],
   "source": [
    "# Handle missing values for engine_hp\n",
    "median_engine_hp = df['engine_hp'].median()\n",
    "df.fillna({'engine_hp': median_engine_hp}, inplace=True)\n",
    "# Check if the missing value is filled\n",
    "print(f\"Missing engine_hp: {df['engine_hp'].isnull().sum()} rows\")\n",
    "\n",
    "# Handle missing values for engine_cylinders\n",
    "median_engine_cylinders = df['engine_cylinders'].median()\n",
    "df.fillna({'engine_cylinders': median_engine_cylinders}, inplace=True)\n",
    "# Check if the missing value is filled\n",
    "print(f\"Missing engine_cylinders: {df['engine_cylinders'].isnull().sum()} rows\")"
   ]
  },
  {
   "cell_type": "code",
   "execution_count": 170,
   "id": "c221d906",
   "metadata": {},
   "outputs": [
    {
     "name": "stdout",
     "output_type": "stream",
     "text": [
      "Combined MPG: 0    22.15\n",
      "1    23.05\n",
      "2    23.60\n",
      "3    22.50\n",
      "4    22.50\n",
      "Name: combined_mpg, dtype: float64\n"
     ]
    }
   ],
   "source": [
    "# Derive combined_mpg\n",
    "df['combined_mpg'] = (0.55 * df['city_mpg'] + 0.45 * df['highway_mpg'])\n",
    "print(f\"Combined MPG: {df['combined_mpg'].head()}\")"
   ]
  },
  {
   "cell_type": "code",
   "execution_count": 171,
   "id": "c0c0f8a4",
   "metadata": {},
   "outputs": [
    {
     "name": "stdout",
     "output_type": "stream",
     "text": [
      "            make    model  year\n",
      "1983   Chevrolet  Bolt EV  2017\n",
      "3716  Volkswagen   e-Golf  2015\n",
      "3718  Volkswagen   e-Golf  2016\n",
      "5778  Mitsubishi   i-MiEV  2014\n",
      "5779  Mitsubishi   i-MiEV  2016\n",
      "5780  Mitsubishi   i-MiEV  2017\n",
      "8373      Toyota  RAV4 EV  2012\n"
     ]
    }
   ],
   "source": [
    "# Check for rows with electric fuel type and non-zero cylinders\n",
    "models_and_years = df.loc[\n",
    "    (df['engine_fuel_type'] == 'electric') & (df['engine_cylinders'] > 0),\n",
    "    ['make', 'model', 'year']\n",
    "].drop_duplicates()\n",
    "\n",
    "print(models_and_years)"
   ]
  },
  {
   "cell_type": "code",
   "execution_count": 172,
   "id": "0410a4a7",
   "metadata": {},
   "outputs": [
    {
     "name": "stdout",
     "output_type": "stream",
     "text": [
      "Electric cars with cylinders: 0 rows\n"
     ]
    }
   ],
   "source": [
    "# For all of the car model, they are all fully electric, so we can set the engine_cylinders to 0\n",
    "df.loc[\n",
    "    (df['engine_fuel_type'] == 'electric') & (df['engine_cylinders'] > 0),\n",
    "    'engine_cylinders'\n",
    "] = 0\n",
    "# Check if the engine_cylinders is set to 0 for electric cars\n",
    "print(f\"Electric cars with cylinders: {df.loc[(df['engine_fuel_type'] == 'electric') & (df['engine_cylinders'] > 0), 'engine_cylinders'].sum()} rows\")"
   ]
  },
  {
   "cell_type": "code",
   "execution_count": 173,
   "id": "a06abdbf",
   "metadata": {},
   "outputs": [
    {
     "name": "stdout",
     "output_type": "stream",
     "text": [
      "Unique Engine Fuel values after grouping: ['premium' 'regular' 'flex_regular' 'diesel' 'electric' 'flex_premium'\n",
      " 'natural gas' 'flex_other']\n"
     ]
    }
   ],
   "source": [
    "# Group and rename engine fuel types\n",
    "df['engine_fuel_type'] = df['engine_fuel_type'].replace({\n",
    "    'premium unleaded (required)': 'premium',\n",
    "    'premium unleaded (recommended)': 'premium',\n",
    "    'flex-fuel (premium unleaded recommended/E85)': 'flex_premium',\n",
    "    'flex-fuel (premium unleaded required/E85)': 'flex_premium',\n",
    "    'flex-fuel (unleaded/natural gas)': 'flex_other',\n",
    "    'flex-fuel (unleaded/E85)': 'flex_regular',\n",
    "    'regular unleaded': 'regular'\n",
    "})\n",
    "\n",
    "# Check unique values after grouping\n",
    "print(f\"Unique Engine Fuel values after grouping: {df['engine_fuel_type'].unique()}\")"
   ]
  },
  {
   "cell_type": "code",
   "execution_count": 174,
   "id": "5ea38f0d",
   "metadata": {},
   "outputs": [
    {
     "name": "stdout",
     "output_type": "stream",
     "text": [
      "Index(['make', 'model', 'year', 'engine_hp', 'engine_cylinders',\n",
      "       'transmission_type', 'number_of_doors', 'market_category',\n",
      "       'vehicle_size', 'vehicle_style', 'highway_mpg', 'city_mpg',\n",
      "       'popularity', 'msrp', 'combined_mpg', 'engine_fuel_type_electric',\n",
      "       'engine_fuel_type_flex_other', 'engine_fuel_type_flex_premium',\n",
      "       'engine_fuel_type_flex_regular', 'engine_fuel_type_natural gas',\n",
      "       'engine_fuel_type_premium', 'engine_fuel_type_regular',\n",
      "       'driven_wheels_four wheel drive', 'driven_wheels_front wheel drive',\n",
      "       'driven_wheels_rear wheel drive'],\n",
      "      dtype='object')\n"
     ]
    }
   ],
   "source": [
    "# Encode engine_fuel_type, and driven_wheels\n",
    "df_encoded = pd.get_dummies(df, columns=['engine_fuel_type', 'driven_wheels'], drop_first=True)\n",
    "\n",
    "# Check the transformed columns\n",
    "print(df_encoded.columns)"
   ]
  },
  {
   "cell_type": "code",
   "execution_count": 175,
   "id": "6f9dbe08",
   "metadata": {},
   "outputs": [],
   "source": [
    "# Save the cleaned data\n",
    "df_encoded.to_csv('cleaned_data.csv', index=False)"
   ]
  },
  {
   "cell_type": "markdown",
   "id": "c35b221b",
   "metadata": {},
   "source": [
    "# 4. Data Insights"
   ]
  },
  {
   "cell_type": "code",
   "execution_count": null,
   "id": "d99c6412",
   "metadata": {},
   "outputs": [],
   "source": [
    "\n",
    "\n",
    "df_cleaned = pd.read_csv('cleaned_data.csv')\n"
   ]
  },
  {
   "cell_type": "markdown",
   "id": "7b2f70af",
   "metadata": {},
   "source": []
  }
 ],
 "metadata": {
  "kernelspec": {
   "display_name": "venv",
   "language": "python",
   "name": "python3"
  },
  "language_info": {
   "codemirror_mode": {
    "name": "ipython",
    "version": 3
   },
   "file_extension": ".py",
   "mimetype": "text/x-python",
   "name": "python",
   "nbconvert_exporter": "python",
   "pygments_lexer": "ipython3",
   "version": "3.10.7"
  }
 },
 "nbformat": 4,
 "nbformat_minor": 5
}
